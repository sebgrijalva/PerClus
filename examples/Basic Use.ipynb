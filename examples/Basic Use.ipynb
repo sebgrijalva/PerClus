{
 "cells": [
  {
   "cell_type": "code",
   "execution_count": null,
   "metadata": {},
   "outputs": [],
   "source": [
    "import os,sys,inspect\n",
    "currentdir = os.path.dirname(os.path.abspath(inspect.getfile(inspect.currentframe())))\n",
    "parentdir = os.path.dirname(currentdir)\n",
    "sys.path.insert(0,parentdir) "
   ]
  },
  {
   "cell_type": "code",
   "execution_count": null,
   "metadata": {},
   "outputs": [],
   "source": [
    "import matplotlib.pyplot as plt\n",
    "import numpy as np\n",
    "import numba\n",
    "\n",
    "from perclus.percolation import Uncorrelated, Correlated\n",
    "import perclus.clustering"
   ]
  },
  {
   "cell_type": "markdown",
   "metadata": {},
   "source": [
    "# Uncorrelated Percolation (Bernoulli)"
   ]
  },
  {
   "cell_type": "code",
   "execution_count": null,
   "metadata": {},
   "outputs": [],
   "source": [
    "L = 16\n",
    "surface = Uncorrelated(L, L, p=0.5)\n",
    "plt.figure(figsize=(8,8))\n",
    "plt.imshow(surface.sample, cmap='coolwarm')\n",
    "plt.colorbar(fraction=0.047, pad=0.02)"
   ]
  },
  {
   "cell_type": "code",
   "execution_count": null,
   "metadata": {},
   "outputs": [],
   "source": [
    "clusters, masses = perclus.clustering.get_clusters(surface.sample, open=False, get_masses=True)\n",
    "print(masses)\n",
    "print(clusters)\n",
    "plt.figure(figsize=(8,8))\n",
    "plt.imshow(clusters, cmap='coolwarm')\n",
    "plt.colorbar(fraction=0.047, pad=0.02)"
   ]
  },
  {
   "cell_type": "markdown",
   "metadata": {},
   "source": [
    "# Correlated Percolation (Uniform or Gaussian)"
   ]
  },
  {
   "cell_type": "code",
   "execution_count": null,
   "metadata": {},
   "outputs": [],
   "source": [
    "L = 16\n",
    "u_surface = Correlated(L, L, type='uniform')\n",
    "plt.figure(figsize=(8,8))\n",
    "plt.imshow(u_surface.sample, cmap='coolwarm')\n",
    "plt.colorbar(fraction=0.047, pad=0.02)"
   ]
  },
  {
   "cell_type": "code",
   "execution_count": null,
   "metadata": {},
   "outputs": [],
   "source": [
    "sizes = [2**5, 2**6, 2**7, 2**8]\n",
    "n_samples = 100\n",
    "plt.figure(figsize=(10,6))\n",
    "\n",
    "for L in sizes:\n",
    "    print(f'Calculating size L = {L}...')\n",
    "    u_surface = Correlated(L, L, type='uniform')\n",
    "    heights = np.linspace(-.6,0,20)\n",
    "    results = []\n",
    "    for h in heights:\n",
    "        max_masses = []\n",
    "        for _ in range(n_samples):\n",
    "            sample = (u_surface.sample>h).astype(int)\n",
    "            clusters, masses = perclus.clustering.get_clusters(sample, open=False, get_masses=True)\n",
    "            max_masses.append(np.max(masses))\n",
    "        results.append(np.mean(max_masses)/L**2)\n",
    "#        errors.append(np.std(max_masses)/np.sqrt(L*n_samples))\n",
    "    print('Done! Plotting...')\n",
    "    plt.plot(heights, results, '-o', label=f'L={L}')\n",
    "    plt.legend()"
   ]
  },
  {
   "cell_type": "code",
   "execution_count": null,
   "metadata": {},
   "outputs": [],
   "source": [
    "L = 16\n",
    "g_surface = Correlated(L, L, type='gaussian')\n",
    "plt.figure(figsize=(8,8))\n",
    "plt.imshow(g_surface.sample, cmap='coolwarm')\n",
    "plt.colorbar(fraction=0.047, pad=0.02)"
   ]
  },
  {
   "cell_type": "code",
   "execution_count": null,
   "metadata": {},
   "outputs": [],
   "source": [
    "clusters, masses = perclus.clustering.get_clusters(1*(g_surface.sample>-0.24),open=False, get_masses=True)\n",
    "print(masses)\n",
    "print(clusters)\n",
    "plt.figure(figsize=(8,8))\n",
    "plt.imshow(clusters, cmap='terrain')\n",
    "plt.colorbar(fraction=0.047, pad=0.02)"
   ]
  },
  {
   "cell_type": "code",
   "execution_count": null,
   "metadata": {},
   "outputs": [],
   "source": []
  }
 ],
 "metadata": {
  "kernelspec": {
   "display_name": "Python 3",
   "language": "python",
   "name": "python3"
  },
  "language_info": {
   "codemirror_mode": {
    "name": "ipython",
    "version": 3
   },
   "file_extension": ".py",
   "mimetype": "text/x-python",
   "name": "python",
   "nbconvert_exporter": "python",
   "pygments_lexer": "ipython3",
   "version": "3.8.6"
  }
 },
 "nbformat": 4,
 "nbformat_minor": 4
}
